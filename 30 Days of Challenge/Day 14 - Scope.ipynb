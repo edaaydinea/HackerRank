{
 "cells": [
  {
   "cell_type": "markdown",
   "metadata": {
    "collapsed": true,
    "pycharm": {
     "name": "#%% md\n"
    }
   },
   "source": [
    "#Day 14: Scope\n",
    "\n",
    "*Author: Eda AYDIN*\n",
    "\n",
    "## Objective\n",
    "Today we're discussing scope. Check out the Tutorial tab for learning materials and an instructional video!\n",
    "\n",
    "The absolute difference between integer $a$, and $b$ is written as $|a-b|$. The maximum absolute difference between two integers in a set of positive integers, $elements$, is the largest absolute difference between any two integers in $__elements$.\n",
    "\n",
    "The difference class is started you in the editor. It has a private integer array ($elements$) for storing $N$ non-negative integers, and a public integer ($maximumDifference$) for storing the maximum absolute difference.\n",
    "\n",
    "## Task\n",
    "\n",
    "Complete the Difference class by writing the following:\n",
    "- A class constructor that takes an array of integers as a parameter and saves it to the $__elements$ instance variable.\n",
    "- A computeDifference method that finds the maximum absolute difference between any $2$ numbers in $__elements$ and stores it in the $maximumDifference$ instance variable.\n",
    "\n",
    "## Sample Input\n",
    "```\n",
    "STDIN   Function\n",
    "-----   --------\n",
    "3       __elements[] size N = 3\n",
    "1 2 5   __elements = [1, 2, 5]\n",
    "```\n",
    "\n",
    "## Sample Output\n",
    "```\n",
    "4\n",
    "```"
   ]
  },
  {
   "cell_type": "code",
   "execution_count": 2,
   "outputs": [
    {
     "name": "stdout",
     "output_type": "stream",
     "text": [
      "4\n"
     ]
    }
   ],
   "source": [
    "class Difference:\n",
    "    def __init__(self, a):\n",
    "        self.__elements = a\n",
    "\n",
    "    # Add your code here\n",
    "    def computeDifference(self):\n",
    "        maximum = 0\n",
    "\n",
    "        for i in range(len(self.__elements)):\n",
    "            for j in range(len(self.__elements)):\n",
    "                absolute = abs(self.__elements[i] - self.__elements[j])\n",
    "                if absolute > maximum:\n",
    "                    maximum = absolute\n",
    "\n",
    "        self.maximumDifference = maximum\n",
    "\n",
    "# End of Difference class\n",
    "\n",
    "_ = input()\n",
    "a = [int(e) for e in input().split(' ')]\n",
    "\n",
    "d = Difference(a)\n",
    "d.computeDifference()\n",
    "\n",
    "print(d.maximumDifference)"
   ],
   "metadata": {
    "collapsed": false,
    "pycharm": {
     "name": "#%%\n"
    }
   }
  }
 ],
 "metadata": {
  "kernelspec": {
   "display_name": "Python 3",
   "language": "python",
   "name": "python3"
  },
  "language_info": {
   "codemirror_mode": {
    "name": "ipython",
    "version": 2
   },
   "file_extension": ".py",
   "mimetype": "text/x-python",
   "name": "python",
   "nbconvert_exporter": "python",
   "pygments_lexer": "ipython2",
   "version": "2.7.6"
  }
 },
 "nbformat": 4,
 "nbformat_minor": 0
}