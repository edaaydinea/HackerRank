{
 "cells": [
  {
   "cell_type": "markdown",
   "source": [
    "# Day 20: Sorting\n",
    "\n",
    "*Author: Eda AYDIN*\n",
    "\n",
    "## Objective\n",
    "Today, we're discussing a simple sorting algorithm called Bubble Sort. Check out the Tutorial tab for learning materials and an instructional video!\n",
    "\n",
    "Consider the following version of Bubble Sort:\n",
    "\n",
    "```\n",
    "for (int i = 0; i < n; i++) {\n",
    "    // Track number of elements swapped during a single array traversal\n",
    "    int numberOfSwaps = 0;\n",
    "\n",
    "    for (int j = 0; j < n - 1; j++) {\n",
    "        // Swap adjacent elements if they are in decreasing order\n",
    "        if (a[j] > a[j + 1]) {\n",
    "            swap(a[j], a[j + 1]);\n",
    "            numberOfSwaps++;\n",
    "        }\n",
    "    }\n",
    "\n",
    "    // If no elements were swapped during a traversal, array is sorted\n",
    "    if (numberOfSwaps == 0) {\n",
    "        break;\n",
    "    }\n",
    "}\n",
    "```\n",
    "\n",
    "## Task\n",
    "Given an array $n$, of size $n$ distinct elements, sort the array in ascending order using the Bubble Sort algorithm above. Once sorted, print the following $3$ lines:\n",
    "1. *Array is sorted in numSwaps swaps.*\n",
    "    where $numSwaps$ is the number of swaps that took place.\n",
    "2. *First Element: firstElement*\n",
    "    where $firstElement$ is the first element in the sorted array.\n",
    "3. *Last Element: lastElement*\n",
    "    where $lastElement$ is the last element in the sorted array.\n",
    "\n",
    "## Sample Input 0\n",
    "```\n",
    "3\n",
    "123\n",
    "```\n",
    "\n",
    "## Sample Output 0\n",
    "```\n",
    "Array is sorted in 0 swaps.\n",
    "First Element: 1\n",
    "Last Element: 3\n",
    "```\n",
    "\n",
    "##Sample Input 1\n",
    "```\n",
    "3\n",
    "3 2 1\n",
    "```\n",
    "\n",
    "## Sample Output 1\n",
    "```\n",
    "Array is sorted in 3 swaps.\n",
    "First Element: 1\n",
    "Last Element: 3\n",
    "```"
   ],
   "metadata": {
    "collapsed": false
   }
  },
  {
   "cell_type": "code",
   "execution_count": 2,
   "metadata": {
    "collapsed": true,
    "pycharm": {
     "name": "#%%\n"
    }
   },
   "outputs": [
    {
     "name": "stdout",
     "output_type": "stream",
     "text": [
      "Array is sorted in 3 swaps.\n",
      "First Element: 1\n",
      "Last Element: 3\n"
     ]
    }
   ],
   "source": [
    "#!/bin/python3\n",
    "\n",
    "import math\n",
    "import os\n",
    "import random\n",
    "import re\n",
    "import sys\n",
    "\n",
    "\n",
    "\n",
    "if __name__ == '__main__':\n",
    "    n = int(input().strip())\n",
    "    a = list(map(int, input().rstrip().split()))\n",
    "    swaps = 0\n",
    "\n",
    "    # Write your code here\n",
    "    for i in range(n):\n",
    "        for j in range(n-1):\n",
    "            if a[j] > a[j + 1]:\n",
    "                temp = a[j]\n",
    "                a[j] = a[j+1]\n",
    "                a[j+1] = temp\n",
    "                swaps +=1\n",
    "\n",
    "        if swaps == 0:\n",
    "            break\n",
    "\n",
    "    print(\"Array is sorted in {} swaps.\".format(str(swaps)))\n",
    "    print(\"First Element: {}\".format(str(a[0])))\n",
    "    print(\"Last Element: {}\".format(str(a[-1])))\n"
   ]
  }
 ],
 "metadata": {
  "kernelspec": {
   "display_name": "Python 3",
   "language": "python",
   "name": "python3"
  },
  "language_info": {
   "codemirror_mode": {
    "name": "ipython",
    "version": 2
   },
   "file_extension": ".py",
   "mimetype": "text/x-python",
   "name": "python",
   "nbconvert_exporter": "python",
   "pygments_lexer": "ipython2",
   "version": "2.7.6"
  }
 },
 "nbformat": 4,
 "nbformat_minor": 0
}