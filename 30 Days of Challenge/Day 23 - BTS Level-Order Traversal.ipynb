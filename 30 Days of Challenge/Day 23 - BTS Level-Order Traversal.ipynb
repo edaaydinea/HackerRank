{
 "cells": [
  {
   "cell_type": "markdown",
   "metadata": {
    "collapsed": true,
    "pycharm": {
     "name": "#%% md\n"
    }
   },
   "source": [
    "# Day 233: BST Level-Order Traversal\n",
    "\n",
    "*Author: Eda AYDIN*\n",
    "\n",
    "## Objective\n",
    "Today, we're going further with Binary Search Trees. Check out the Tutorial tab for learning materials and an instructional video.\n",
    "\n",
    "## Task\n",
    "A level-order traversal, also know as a breadth-first search, visits each level of a tree's nodes from left to right, top to bottom. You are given a pointer, $roof$, pointing to the root of a binary search tree. Complete the levelOrder function provided in your editor so that it prints the level-order traversal of the binary search tree.\n",
    "\n",
    "**Note:** You'll find a queue helpful in completing this challenge.\n",
    "\n",
    "## Function Description\n",
    "Complete the levelOrder function in the editor below.\n",
    "\n",
    "levelOrder has the following parameter:\n",
    "- Node pointer root: a reference to the root of the tree\n",
    "\n",
    "\n",
    "## Prints\n",
    "- Print node.data items as space-separated line of integers. No return value is expected.\n",
    "\n",
    "## Input Format\n",
    "The locked stub code in your editor reads the following inputs and assembles them into a BST:\n",
    "The first line contains an integer,$T$  (the number of test cases).\n",
    "The $T$ subsequent lines each contain an integer,$data$ , denoting the value of an element that must be added to the BST.\n",
    "\n",
    "## Constraints\n",
    "$1 \\leq N\\leq 20$\n",
    "$1 \\leq node.data[i]\\leq 100$\n",
    "\n",
    "## Output Format\n",
    "Print he $data$ value of each node in the tree^s level-order traversal as a single line of $N$ space-seperated integers.\n",
    "\n",
    "## Sample Input\n",
    "\n",
    "```\n",
    "6\n",
    "3\n",
    "5\n",
    "4\n",
    "7\n",
    "2\n",
    "1\n",
    "```\n",
    "\n",
    "## Sample Output\n",
    "\n",
    "```\n",
    "3 2 5 1 4 7\n",
    "```"
   ]
  },
  {
   "cell_type": "code",
   "execution_count": 3,
   "outputs": [
    {
     "name": "stdout",
     "output_type": "stream",
     "text": [
      "3 2 5 1 4 7 "
     ]
    }
   ],
   "source": [
    "import sys\n",
    "\n",
    "class Node:\n",
    "    def __init__(self,data):\n",
    "        self.right=self.left=None\n",
    "        self.data = data\n",
    "\n",
    "class Solution:\n",
    "    def insert(self,root,data):\n",
    "        if root==None:\n",
    "            return Node(data)\n",
    "        else:\n",
    "            if data<=root.data:\n",
    "                cur=self.insert(root.left,data)\n",
    "                root.left=cur\n",
    "            else:\n",
    "                cur=self.insert(root.right,data)\n",
    "                root.right=cur\n",
    "        return root\n",
    "\n",
    "    def levelOrder(self,root):\n",
    "        #Write your code here\n",
    "        queue = [root]\n",
    "        while len(queue) != 0:\n",
    "            current = queue[0]\n",
    "            queue = queue[1:]\n",
    "            print(\"{} \".format(str(current.data)),end=\"\")\n",
    "\n",
    "            if current.left is not None:\n",
    "                queue.append(current.left)\n",
    "            if current.right is not None:\n",
    "                queue.append(current.right)\n",
    "\n",
    "T=int(input())\n",
    "myTree=Solution()\n",
    "root=None\n",
    "for i in range(T):\n",
    "    data=int(input())\n",
    "    root=myTree.insert(root,data)\n",
    "myTree.levelOrder(root)"
   ],
   "metadata": {
    "collapsed": false,
    "pycharm": {
     "name": "#%%\n"
    }
   }
  }
 ],
 "metadata": {
  "kernelspec": {
   "display_name": "Python 3",
   "language": "python",
   "name": "python3"
  },
  "language_info": {
   "codemirror_mode": {
    "name": "ipython",
    "version": 2
   },
   "file_extension": ".py",
   "mimetype": "text/x-python",
   "name": "python",
   "nbconvert_exporter": "python",
   "pygments_lexer": "ipython2",
   "version": "2.7.6"
  }
 },
 "nbformat": 4,
 "nbformat_minor": 0
}