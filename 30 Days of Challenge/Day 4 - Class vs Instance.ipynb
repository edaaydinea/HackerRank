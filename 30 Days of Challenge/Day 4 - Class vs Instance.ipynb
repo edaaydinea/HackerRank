{
 "cells": [
  {
   "cell_type": "markdown",
   "source": [
    "# Day 4: Class vs. Instance\n",
    "\n",
    "*Author: Eda AYDIN*\n",
    "\n",
    "## Objective\n",
    "In this challenge, we're going to learn about the difference between a class and an instance; because this is an Object Oriented concept, it's only enabled in certain languages. Check out the Tutorial tab for learning materials and an instructional video!\n",
    "\n",
    "## Task\n",
    "Write a Person class with an instance, $age$, and a constructor that takes an integer, $initialAge$, as a parameter. The constructor must assign $initialAge$ to $age$ after confirming the argument passed as $initalAge$ is not negative; if a negative argument is passed as $initialAge$, the constructor should set $age$ to $0$ and print ```Age is not valid, setting age to ``` In addition, you must write the following instance methods:\n",
    "1. yearPasses() should increase the $age$ instance variable by $1$.\n",
    "2. amIOld() should perform the following conditional actions:\n",
    "    - If $age\\,<13$, print ```You are young.```\n",
    "    - If $age\\,\\geq13$, and $age\\,<18$ print ```You are a teenager.```\n",
    "    - Otherwise, print ```You are old.```\n",
    "\n",
    "To help you learn by example and complete this challenge, much of the code is provided for you, but you'll be writing everything in the future. The code that creates each instance of your Person class is in the main method. Don't worry if you don't understand it all quite yet!\n",
    "\n",
    "**Note:** Do not remove or alter the stub code in the editor.\n",
    "\n",
    "## Input Format\n",
    "\n",
    "Input is handled for you by the stub code in the editor.\n",
    "The first line contains an integer, $T$ (the number of test cases), and the $T$ subsequent lines each contain an integer denoting the $age$ of a Person instance.\n",
    "\n",
    "## Constraints\n",
    "\n",
    "- $1\\leq T\\leq 4$\n",
    "- $-5\\leq age\\leq 30$\n",
    "\n",
    "## Output Format\n",
    "Complete the method definitions provided in the editor so they meet the specifications outlined above; the code to test your work is already in the editor. If your methods are implemented correctly, each test case will print $2$ or $3$ lines (depending on whether or not a valid $initialAge$ was passed to the constructor).\n",
    "\n",
    "## Sample Input\n",
    "\n",
    "        4\n",
    "        -1\n",
    "        10\n",
    "        16\n",
    "        18\n",
    "\n",
    "## Sample Output\n",
    "\n",
    "        Age is not valide, setting age to 0.\n",
    "        You are young.\n",
    "        You are young.\n",
    "\n",
    "        You are young.\n",
    "        You are a teenager.\n",
    "\n",
    "        Your are a teenager.\n",
    "        You are old.\n",
    "\n",
    "        Your are old.\n",
    "        Your are old."
   ],
   "metadata": {
    "collapsed": false
   }
  },
  {
   "cell_type": "code",
   "execution_count": 1,
   "metadata": {
    "collapsed": true
   },
   "outputs": [
    {
     "name": "stdout",
     "output_type": "stream",
     "text": [
      "Age is not valide, setting age to 0.\n",
      "You are young.\n",
      "You are young.\n",
      "\n",
      "You are young.\n",
      "You are a teenager.\n",
      "\n",
      "You are a teenager.\n",
      "You are old.\n",
      "\n",
      "You are old.\n",
      "You are old.\n",
      "\n"
     ]
    }
   ],
   "source": [
    "class Person:\n",
    "    def __init__(self,initialAge):\n",
    "    # Add some more code to run some checks on initialAge\n",
    "        if initialAge > 0:\n",
    "            self.age = initialAge\n",
    "        else:\n",
    "            print(\"Age is not valid, setting age to 0.\")\n",
    "            self.age = 0\n",
    "\n",
    "    def amIOld(self):\n",
    "    # Do some computations in here and print out the correct statement to the console\n",
    "        if self.age < 13:\n",
    "            print(\"You are young.\")\n",
    "        elif 13 <= self.age < 18:\n",
    "            print(\"You are a teenager.\")\n",
    "        else:\n",
    "            print(\"You are old.\")\n",
    "\n",
    "    def yearPasses(self):\n",
    "    # Increment the age of the person in here\n",
    "        self.age += 1\n",
    "\n",
    "t = int(input())\n",
    "for i in range(0, t):\n",
    "    age = int(input())\n",
    "    p = Person(age)\n",
    "    p.amIOld()\n",
    "    for j in range(0, 3):\n",
    "        p.yearPasses()\n",
    "    p.amIOld()\n",
    "    print(\"\")"
   ]
  },
  {
   "cell_type": "code",
   "execution_count": null,
   "outputs": [],
   "source": [],
   "metadata": {
    "collapsed": false,
    "pycharm": {
     "name": "#%%\n"
    }
   }
  }
 ],
 "metadata": {
  "kernelspec": {
   "display_name": "Python 3",
   "language": "python",
   "name": "python3"
  },
  "language_info": {
   "codemirror_mode": {
    "name": "ipython",
    "version": 2
   },
   "file_extension": ".py",
   "mimetype": "text/x-python",
   "name": "python",
   "nbconvert_exporter": "python",
   "pygments_lexer": "ipython2",
   "version": "2.7.6"
  }
 },
 "nbformat": 4,
 "nbformat_minor": 0
}