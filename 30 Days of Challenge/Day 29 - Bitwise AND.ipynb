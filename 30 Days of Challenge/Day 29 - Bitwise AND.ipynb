{
 "cells": [
  {
   "cell_type": "markdown",
   "metadata": {
    "collapsed": true,
    "pycharm": {
     "name": "#%% md\n"
    }
   },
   "source": [
    "# Day 29: Bitwise AND\n",
    "\n",
    "*Author: Eda AYDIN*\n",
    "\n",
    "## Objective\n",
    "Welcome to the last day! Today, we’re discussing bitwise operations.\n",
    "\n",
    "## Task\n",
    "Given set $S = {1, 2, 3, . . . ,N}$. Find two integers, $A$ and $B$ (where $A < B$), from set $S$ such that the value of $A&B$ is the maximum possible and also less than a given integer, $K.$ In this case, $&$ represents the bitwise AND operator.\n",
    "\n",
    "## Function Description\n",
    "Complete the bitwiseAnd function in the editor below.\n",
    "\n",
    "bitwiseAnd has the following paramter(s):\n",
    "– int N: the maximum integer to consider\n",
    "– int K: the limit of the result, inclusive\n",
    "\n",
    "## Returns\n",
    "– int: the maximum value of $A&B$ within the limit.\n",
    "\n",
    "## Input Format\n",
    "The first line contains an integer, $T$, the number of test cases.\n",
    "Each of the $T$ subsequent lines defines a test case as $2$ space-separated integers, $N$ and $K$, respectively.\n",
    "\n",
    "## Constraints\n",
    "- $1 <= T <= 10^{3}$\n",
    "- $2 <= N <= 10^{3}$\n",
    "- $2 <= K <= N$\n",
    "\n",
    "## Sample Input\n",
    "```\n",
    "STDIN   Function\n",
    "-----   --------\n",
    "3       T = 3\n",
    "5 2     N = 5, K = 2\n",
    "8 5     N = 8, K = 5\n",
    "2 2     N = 8, K = 5\n",
    "```\n",
    "## Sample Output\n",
    "```\n",
    "1\n",
    "4\n",
    "0\n",
    "```"
   ]
  },
  {
   "cell_type": "code",
   "execution_count": null,
   "outputs": [],
   "source": [
    "#!/bin/python3\n",
    "\n",
    "import math\n",
    "import os\n",
    "import random\n",
    "import re\n",
    "import sys\n",
    "\n",
    "#\n",
    "# Complete the 'bitwiseAnd' function below.\n",
    "#\n",
    "# The function is expected to return an INTEGER.\n",
    "# The function accepts following parameters:\n",
    "#  1. INTEGER N\n",
    "#  2. INTEGER K\n",
    "#\n",
    "\n",
    "def bitwiseAnd(N, K):\n",
    "    # Write your code here\n",
    "    maximum = 0\n",
    "    for i in range(1, N+1):\n",
    "        for j in range(i+1,N+1):\n",
    "            value = i & j\n",
    "            if value > maximum and value < K:\n",
    "                maximum = value\n",
    "                if maximum == K-1:\n",
    "                    return maximum\n",
    "    return maximum\n",
    "\n",
    "\n",
    "if __name__ == '__main__':\n",
    "    fptr = open(os.environ['OUTPUT_PATH'], 'w')\n",
    "\n",
    "    t = int(input().strip())\n",
    "\n",
    "    for t_itr in range(t):\n",
    "        first_multiple_input = input().rstrip().split()\n",
    "\n",
    "        count = int(first_multiple_input[0])\n",
    "\n",
    "        lim = int(first_multiple_input[1])\n",
    "\n",
    "        res = bitwiseAnd(count, lim)\n",
    "\n",
    "        fptr.write(str(res) + '\\n')\n",
    "\n",
    "    fptr.close()"
   ],
   "metadata": {
    "collapsed": false,
    "pycharm": {
     "name": "#%%\n"
    }
   }
  }
 ],
 "metadata": {
  "kernelspec": {
   "display_name": "Python 3",
   "language": "python",
   "name": "python3"
  },
  "language_info": {
   "codemirror_mode": {
    "name": "ipython",
    "version": 2
   },
   "file_extension": ".py",
   "mimetype": "text/x-python",
   "name": "python",
   "nbconvert_exporter": "python",
   "pygments_lexer": "ipython2",
   "version": "2.7.6"
  }
 },
 "nbformat": 4,
 "nbformat_minor": 0
}