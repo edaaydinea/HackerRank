{
 "cells": [
  {
   "cell_type": "markdown",
   "metadata": {
    "collapsed": true,
    "pycharm": {
     "name": "#%% md\n"
    }
   },
   "source": [
    "# Day 24: More Linked Lists\n",
    "\n",
    "*Author: Eda AYDIN*\n",
    "\n",
    "## Objective\n",
    "Check out the Tutorial tab for larning materials and an instructional video!\n",
    "\n",
    "## Task\n",
    "A Node class is provided for you in the editor. A Node object has an integer data field, $data$, and a Node instance pointer, $next$, pointing to another node (i.e.: the next node in a list)\n",
    "\n",
    "A removeDuplicates function is declared in your editor, which takes a pointer to the $head$ node of a linked list as a parameter. Complete removeDuplicates so that it deletes any duplicate nodes from the list and returns the head of the updated list.\n",
    "\n",
    "**Note:** The $head$ pointer may be null, indicating that the list is empty. Be sure to reset you $next$ pointer when performing deletions to avoid breaking the list.\n",
    "\n",
    "## Input Format\n",
    "You do not need to read any input from stdin. The following input is handled by the locked stub code and passed to the removeDuplicates function:\n",
    "The first line contains an integer, $N$, the nuber of nodes to be inserted. The $N$ subsequent lines each contain an integer describing the $data$ value of a node being inserted at the list's tail.\n",
    "\n",
    "## Constraints\n",
    "\n",
    "- The data elements of the linked list argument will always be in non-decreasing order.\n",
    "\n",
    "## Output Format\n",
    "Your removeDuplicates function should return the head of the updated linked list. The locked stub code in your editor will print the returned list to stdout.\n",
    "\n",
    "## Sample Input\n",
    "```\n",
    "6\n",
    "1\n",
    "2\n",
    "2\n",
    "3\n",
    "3\n",
    "4\n",
    "```\n",
    "\n",
    "## Sample Output\n",
    "```\n",
    "1 2 3 4\n",
    "```"
   ]
  },
  {
   "cell_type": "code",
   "execution_count": 3,
   "outputs": [
    {
     "name": "stdout",
     "output_type": "stream",
     "text": [
      "1 2 3 4 "
     ]
    }
   ],
   "source": [
    "class Node:\n",
    "    def __init__(self,data):\n",
    "        self.data = data\n",
    "        self.next = None\n",
    "\n",
    "class Solution:\n",
    "    def insert(self,head,data):\n",
    "        p = Node(data)\n",
    "        if head==None:\n",
    "            head=p\n",
    "        elif head.next==None:\n",
    "            head.next=p\n",
    "        else:\n",
    "            start=head\n",
    "            while(start.next!=None):\n",
    "                start=start.next\n",
    "            start.next=p\n",
    "        return head\n",
    "    def display(self,head):\n",
    "        current = head\n",
    "        while current:\n",
    "            print(current.data,end=' ')\n",
    "            current = current.next\n",
    "\n",
    "    def removeDuplicates(self,head):\n",
    "        #Write your code here\n",
    "        current = head\n",
    "        while current is not None and current.next is not None:\n",
    "            while current.next is not None and current.data is current.next.data:\n",
    "                current.next = current.next.next\n",
    "            current = current.next\n",
    "        return head\n",
    "\n",
    "mylist= Solution()\n",
    "T=int(input())\n",
    "head=None\n",
    "for i in range(T):\n",
    "    data=int(input())\n",
    "    head=mylist.insert(head,data)\n",
    "head=mylist.removeDuplicates(head)\n",
    "mylist.display(head);"
   ],
   "metadata": {
    "collapsed": false,
    "pycharm": {
     "name": "#%%\n"
    }
   }
  }
 ],
 "metadata": {
  "kernelspec": {
   "display_name": "Python 3",
   "language": "python",
   "name": "python3"
  },
  "language_info": {
   "codemirror_mode": {
    "name": "ipython",
    "version": 2
   },
   "file_extension": ".py",
   "mimetype": "text/x-python",
   "name": "python",
   "nbconvert_exporter": "python",
   "pygments_lexer": "ipython2",
   "version": "2.7.6"
  }
 },
 "nbformat": 4,
 "nbformat_minor": 0
}