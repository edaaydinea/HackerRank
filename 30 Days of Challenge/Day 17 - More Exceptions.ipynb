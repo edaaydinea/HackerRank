{
 "cells": [
  {
   "cell_type": "markdown",
   "metadata": {
    "collapsed": true,
    "pycharm": {
     "name": "#%% md\n"
    }
   },
   "source": [
    "# Day 17: More Exceptions\n",
    "\n",
    "*Author: Eda AYDIN*\n",
    "\n",
    "## Objective\n",
    "Yesterday's challenge taught you to manage exceptional situations by using try and catch blocks. In today's challenge, you will practice throwing and propagating an exception. Check out the Tutorial tab for learning materials and an instructional video.\n",
    "\n",
    "## Task\n",
    "Write a Calculator class with a single method: it power(int,int). The power method takes two integers, $n$ and $p$ , as parameters and returns integer result of $n^p$. If either $n$ or $p$ is negative, then the method must throw an exception with the message: *n and p should be non-negative*.\n",
    "\n",
    "**Note:** Do not use an access modifier (e.g. : public) in the declaration for your Calculator class.\n",
    "\n",
    "## Sample Input\n",
    "```\n",
    "4\n",
    "3 5\n",
    "2 4\n",
    "-1 -2\n",
    "-1 3\n",
    "```\n",
    "\n",
    "## Sample Output\n",
    "```\n",
    "243\n",
    "16\n",
    "n and p should be non-negative\n",
    "n and p should be non-negative\n",
    "```"
   ]
  },
  {
   "cell_type": "code",
   "execution_count": 2,
   "outputs": [
    {
     "name": "stdout",
     "output_type": "stream",
     "text": [
      "243\n",
      "16\n",
      "n and p should be non-negative\n",
      "n and p should be non-negative\n"
     ]
    }
   ],
   "source": [
    "#Write your code here\n",
    "class Calculator:\n",
    "    def power(self, n, p):\n",
    "        if n < 0 or p < 0:\n",
    "            raise Exception(\"n and p should be non-negative\")\n",
    "        return pow(n,p)\n",
    "\n",
    "myCalculator=Calculator()\n",
    "T=int(input())\n",
    "for i in range(T):\n",
    "    n,p = map(int, input().split())\n",
    "    try:\n",
    "        ans=myCalculator.power(n,p)\n",
    "        print(ans)\n",
    "    except Exception as e:\n",
    "        print(e)"
   ],
   "metadata": {
    "collapsed": false,
    "pycharm": {
     "name": "#%%\n"
    }
   }
  }
 ],
 "metadata": {
  "kernelspec": {
   "display_name": "Python 3",
   "language": "python",
   "name": "python3"
  },
  "language_info": {
   "codemirror_mode": {
    "name": "ipython",
    "version": 2
   },
   "file_extension": ".py",
   "mimetype": "text/x-python",
   "name": "python",
   "nbconvert_exporter": "python",
   "pygments_lexer": "ipython2",
   "version": "2.7.6"
  }
 },
 "nbformat": 4,
 "nbformat_minor": 0
}