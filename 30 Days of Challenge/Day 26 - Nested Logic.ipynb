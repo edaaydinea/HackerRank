{
 "cells": [
  {
   "cell_type": "markdown",
   "metadata": {
    "collapsed": true,
    "pycharm": {
     "name": "#%% md\n"
    }
   },
   "source": [
    "# Day 26: Nested Logic\n",
    "\n",
    "*Author: Eda AYDIN*\n",
    "\n",
    "## Objective\n",
    "Today’s challenge puts your understanding of nested conditional statements to the test.\n",
    "\n",
    "## Task\n",
    "Your local library needs your help! Given the expected and actual return dates for a library book, create a program that calculates the fine (if any). The fee structure is as follows:\n",
    "\n",
    "1. If the book is returned on or before the expected return date, no fine will be charged (i.e.: $fine = 0$.\n",
    "2. If the book is returned after the expected return day but still within the same calendar month and year as the expected return date, $fine = 15 Hackos x (the number of days late)$.\n",
    "3. If the book is returned after the expected return month but still within the same calendar year as the expected return date, the $fine = 500 Hackos x (the number of months late)$.\n",
    "4. If the book is returned after the calendar year in which it was expected, there is a fixed fine of $10000 Hackos$.\n",
    "\n",
    "## Example\n",
    "$d1, m1, y1 = 12312014$  returned date\n",
    "$d2, m2, y2 = 112015$ due date\n",
    "\n",
    "The book is returned on time, so no fine is applied.\n",
    "\n",
    "$d1, m1, y1 = 112015$ returned date\n",
    "$d2, m2, y2 = 12312014$ due date\n",
    "\n",
    "The book is returned in the following year, so the fine is a fixed 10000.\n",
    "\n",
    "## Input Format\n",
    "The first line contains $3$ space-separated integers denoting the respective $day$, $month$, and $year$ on which the book was actually returned.\n",
    "The second line contains $3$ space-separated integers denoting the respective $day$, $month$, and $year$ on which the book was expected to be returned (due date).\n",
    "\n",
    "## Constraints\n",
    "\n",
    "- &1 <= D <= 31&\n",
    "- &1 <= M <= 12&\n",
    "- &1 <= Y <= 3000&\n",
    "- &It is guaranteed that the dates will be valid Gregorian calendar dates.&\n",
    "\n",
    "## Output Format\n",
    "Print a single integer denoting the library fine for the book received as input.\n",
    "\n",
    "## Sample Input\n",
    "\n",
    "```\n",
    "STDIN       Function\n",
    "-----       --------\n",
    "9 6 2015    day = 9, month = 6, year = 2015 (date returned)\n",
    "6 6 2015    day = 6, month = 6, year = 2015 (date due)\n",
    "```\n",
    "## Sample Output\n",
    "```\n",
    "45\n",
    "```"
   ]
  },
  {
   "cell_type": "code",
   "execution_count": 2,
   "outputs": [
    {
     "name": "stdout",
     "output_type": "stream",
     "text": [
      "45\n"
     ]
    }
   ],
   "source": [
    "returned_date = input()\n",
    "returned_date = list(map(int,returned_date.split(\" \")))\n",
    "\n",
    "due_date = input()\n",
    "due_date = list(map(int,due_date.split(\" \")))\n",
    "\n",
    "returned_day = returned_date[0]\n",
    "returned_month = returned_date[1]\n",
    "returned_year = returned_date[2]\n",
    "\n",
    "due_day = due_date[0]\n",
    "due_month = due_date[1]\n",
    "due_year = due_date[2]\n",
    "\n",
    "fine = 0\n",
    "\n",
    "if returned_year > due_year:\n",
    "    fine = 10000\n",
    "elif returned_year == due_year:\n",
    "    if returned_month > due_month:\n",
    "        fine = 500 * (returned_month - due_month)\n",
    "    elif returned_month == due_month:\n",
    "        if returned_day > due_day:\n",
    "            fine = 15 * (returned_day - due_day)\n",
    "print(fine)"
   ],
   "metadata": {
    "collapsed": false,
    "pycharm": {
     "name": "#%%\n"
    }
   }
  }
 ],
 "metadata": {
  "kernelspec": {
   "display_name": "Python 3",
   "language": "python",
   "name": "python3"
  },
  "language_info": {
   "codemirror_mode": {
    "name": "ipython",
    "version": 2
   },
   "file_extension": ".py",
   "mimetype": "text/x-python",
   "name": "python",
   "nbconvert_exporter": "python",
   "pygments_lexer": "ipython2",
   "version": "2.7.6"
  }
 },
 "nbformat": 4,
 "nbformat_minor": 0
}