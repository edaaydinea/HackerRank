{
 "cells": [
  {
   "cell_type": "markdown",
   "metadata": {
    "collapsed": true,
    "pycharm": {
     "name": "#%% md\n"
    }
   },
   "source": [
    "# Day 6: Let's Review\n",
    "\n",
    "*Eda AYDIN*\n",
    "\n",
    "## Objective\n",
    "Today we will expand our knowledge of strings, combining it with what we have already learned about loops. Check out the Tutorial tab for learning materials and an instructional video.\n",
    "\n",
    "## Task\n",
    "Given a string, $S$ of length $N$ that is indexed from $0$ to $N-1$, print its even-indexed and odd-indexed characters as 2 space-seperated strings on a single line (see the sample below for more detail)\n",
    "\n",
    "**Note:**$0$ is considered to be an even index.\n",
    "\n",
    "## Example\n",
    "\n",
    "$s\\,=\\,adbecf$\n",
    "\n",
    "print ```abc def```\n",
    "\n",
    "\n",
    "## Sample Input\n",
    "\n",
    "```\n",
    "2\n",
    "Hacker\n",
    "Rank\n",
    "```\n",
    "\n",
    "## Sample Output\n",
    "\n",
    "```\n",
    "Hce akr\n",
    "Rn ak\n",
    "```"
   ]
  },
  {
   "cell_type": "code",
   "execution_count": 7,
   "outputs": [
    {
     "name": "stdout",
     "output_type": "stream",
     "text": [
      "Hce akr\n",
      "Rn ak\n"
     ]
    }
   ],
   "source": [
    "# Enter your code here. Read input from STDIN. Print output to STDOUT\n",
    "\n",
    "def LetsReview(N):\n",
    "\n",
    "    for i in range(0,N):\n",
    "        string = input()\n",
    "\n",
    "        for j in range(0 , len(string)):\n",
    "            if j % 2 == 0:\n",
    "                print(string[j], end=\"\")\n",
    "        print(\" \",end=\"\")\n",
    "        for j in range(0 , len(string)):\n",
    "            if j % 2 != 0:\n",
    "                print(string[j], end=\"\")\n",
    "        print(\"\")\n",
    "\n",
    "LetsReview(int(input()))"
   ],
   "metadata": {
    "collapsed": false,
    "pycharm": {
     "name": "#%%\n"
    }
   }
  }
 ],
 "metadata": {
  "kernelspec": {
   "display_name": "Python 3",
   "language": "python",
   "name": "python3"
  },
  "language_info": {
   "codemirror_mode": {
    "name": "ipython",
    "version": 2
   },
   "file_extension": ".py",
   "mimetype": "text/x-python",
   "name": "python",
   "nbconvert_exporter": "python",
   "pygments_lexer": "ipython2",
   "version": "2.7.6"
  }
 },
 "nbformat": 4,
 "nbformat_minor": 0
}