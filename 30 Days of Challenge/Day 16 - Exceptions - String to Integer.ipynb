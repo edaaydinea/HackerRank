{
 "cells": [
  {
   "cell_type": "markdown",
   "metadata": {
    "collapsed": true,
    "pycharm": {
     "name": "#%% md\n"
    }
   },
   "source": [
    "# Day 16: Exceptions - String to Integer\n",
    "\n",
    "## Objective\n",
    "\n",
    "Today, we 're getting started with Exceptions by learning how to parse an integer from a string and print a custom error message. Check out the Tutorial tab for learning materials and an instructional video!\n",
    "\n",
    "## Task\n",
    "Read a string, $S$, and print its integer value; if $S$ cannot be converted to an integer, print *Bad String*.\n",
    "\n",
    "**Note:** You must use the the String-to-Integer and exception handling constructs built into your submission language. If you attempt to use loops / conditional statements, you will get a $0$ score.\n",
    "\n",
    "## Input Format\n",
    "A single string, $S$\n",
    "\n",
    "## Constraints\n",
    "- $1 \\leq |S| \\leq 6$, where $|S|$ is the length of string $S$.\n",
    "- $S$ is composed of either lowercase letters ($A-z$) or decimel digits ($0-9$).\n",
    "\n",
    "## Output Format\n",
    "\n",
    "Print the parsed integer value of $S$, or Bad String if $S$ cannot be converted to an integer.\n",
    "\n",
    "## Sample Input 0\n",
    "```\n",
    "3\n",
    "```\n",
    "\n",
    "## Sample Output 0\n",
    "```\n",
    "3\n",
    "```\n",
    "\n",
    "## Sample Input 1\n",
    "```\n",
    "za\n",
    "```\n",
    "## Sample Output 1\n",
    "```\n",
    "Bad String\n",
    "```"
   ]
  },
  {
   "cell_type": "code",
   "execution_count": 2,
   "outputs": [
    {
     "name": "stdout",
     "output_type": "stream",
     "text": [
      "Bad String\n"
     ]
    }
   ],
   "source": [
    "#!/bin/python3\n",
    "import sys\n",
    "\n",
    "S = input().strip()\n",
    "\n",
    "try:\n",
    "    print (int(S))\n",
    "except ValueError:\n",
    "    print (\"Bad String\")"
   ],
   "metadata": {
    "collapsed": false,
    "pycharm": {
     "name": "#%%\n"
    }
   }
  }
 ],
 "metadata": {
  "kernelspec": {
   "display_name": "Python 3",
   "language": "python",
   "name": "python3"
  },
  "language_info": {
   "codemirror_mode": {
    "name": "ipython",
    "version": 2
   },
   "file_extension": ".py",
   "mimetype": "text/x-python",
   "name": "python",
   "nbconvert_exporter": "python",
   "pygments_lexer": "ipython2",
   "version": "2.7.6"
  }
 },
 "nbformat": 4,
 "nbformat_minor": 0
}