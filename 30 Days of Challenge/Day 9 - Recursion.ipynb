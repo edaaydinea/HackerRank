{
 "cells": [
  {
   "cell_type": "markdown",
   "metadata": {
    "collapsed": true,
    "pycharm": {
     "name": "#%% md\n"
    }
   },
   "source": [
    "# Day 9 : Recursion 3\n",
    "\n",
    "*Eda AYDIN*\n",
    "\n",
    "## Objective\n",
    "\n",
    "Today, we are learning about an algorithmic concept called recursion. Check out the Tutorial tab for learning materials and an instructional video.\n",
    "\n",
    "## Recursive Method for Calculating Factorial\n",
    "\n",
    "$$ factorial(N) = \\left\\{\\begin{matrix}\n",
    "1 & N \\leq 1 \\\\\n",
    "N \\times factorial(N-1)) & otherwise\n",
    "\\end{matrix}\\right.$$\n",
    "\n",
    "## Function Description\n",
    "\n",
    "Complete the factorial function in the editor below. Be sure to use recursion.\n",
    "Factorial has the following parameter:\n",
    "- int n; an integer\n",
    "\n",
    "## Returns\n",
    "- int: the factorial of $n$\n",
    "\n",
    "**Note:** If you fail to use recursion or fail to name your recursive function factorial or Factorial, you will get a score of $0$\n",
    "\n",
    "## Sample Input\n",
    "\n",
    "        3\n",
    "\n",
    "## Sample Output\n",
    "\n",
    "        6"
   ]
  },
  {
   "cell_type": "code",
   "execution_count": null,
   "outputs": [],
   "source": [
    "#!/bin/python3\n",
    "\n",
    "import math\n",
    "import os\n",
    "import random\n",
    "import re\n",
    "import sys\n",
    "\n",
    "#\n",
    "# Complete the 'factorial' function below.\n",
    "#\n",
    "# The function is expected to return an INTEGER.\n",
    "# The function accepts INTEGER n as parameter.\n",
    "#\n",
    "\n",
    "def factorial(n):\n",
    "    # Write your code here\n",
    "    while n!= 0:\n",
    "        if n == 1:\n",
    "            return 1\n",
    "        else:\n",
    "            return factorial(n - 1) * n\n",
    "\n",
    "if __name__ == '__main__':\n",
    "    fptr = open(os.environ['OUTPUT_PATH'], 'w')\n",
    "    n = int(input().strip())\n",
    "    result = factorial(n)\n",
    "    fptr.write(str(result) + '\\n')\n",
    "    fptr.close()"
   ],
   "metadata": {
    "collapsed": false,
    "pycharm": {
     "name": "#%%\n"
    }
   }
  }
 ],
 "metadata": {
  "kernelspec": {
   "display_name": "Python 3",
   "language": "python",
   "name": "python3"
  },
  "language_info": {
   "codemirror_mode": {
    "name": "ipython",
    "version": 2
   },
   "file_extension": ".py",
   "mimetype": "text/x-python",
   "name": "python",
   "nbconvert_exporter": "python",
   "pygments_lexer": "ipython2",
   "version": "2.7.6"
  }
 },
 "nbformat": 4,
 "nbformat_minor": 0
}