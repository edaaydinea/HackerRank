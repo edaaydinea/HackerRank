{
 "cells": [
  {
   "cell_type": "markdown",
   "metadata": {
    "collapsed": true,
    "pycharm": {
     "name": "#%% md\n"
    }
   },
   "source": [
    "# Day 8: Dictionaries and Maps\n",
    "\n",
    "*Author: Eda AYDIN*\n",
    "\n",
    "## Objective\n",
    "Today, we're learning about Key-Value pair mappings using a Map or Dictionary data structure. Check out the Tutorial tab for learning materials and an instructional video!\n",
    "\n",
    "## Task\n",
    "Given $n$ names and phone numbers, assemble a phone book that maps friends' names to their respective phone numbers. You will then be given an unknown number of names to query your phone book for. For each $name$ queried, print the associated entry from your phone book on a new line in the form name=phoneNumber; if an entry for $name$ is not found, print Not found instead.\n",
    "\n",
    "Note: Your phone book should be a Dictionary/Map/HashMap data structure.\n",
    "\n",
    "## Sample Input\n",
    "\n",
    "        3\n",
    "        sam 99912222\n",
    "        tom 11122222\n",
    "        harry 12299933\n",
    "        sam\n",
    "        edward\n",
    "        harry\n",
    "\n",
    "## Sample Output\n",
    "\n",
    "        sam=99912222\n",
    "        Not found\n",
    "        harry=12299933"
   ]
  },
  {
   "cell_type": "code",
   "execution_count": null,
   "outputs": [],
   "source": [
    "import sys\n",
    "\n",
    "def phoneBook():\n",
    "    n = int(input())\n",
    "    phoneBook = {}\n",
    "    for i in range(n):\n",
    "        contact = input().split(' ')\n",
    "        phoneBook[contact[0]] = contact[1]\n",
    "    # Process Queries\n",
    "    lines = sys.stdin.readlines()\n",
    "    for i in lines:\n",
    "        name = i.strip()\n",
    "        if name in phoneBook:\n",
    "            print(name + '=' + str( phoneBook[name] ))\n",
    "        else:\n",
    "            print('Not found')\n",
    "\n",
    "\n",
    "if __name__ == '__main__':\n",
    "    phoneBook()"
   ],
   "metadata": {
    "collapsed": false,
    "pycharm": {
     "name": "#%%\n"
    }
   }
  }
 ],
 "metadata": {
  "kernelspec": {
   "display_name": "Python 3",
   "language": "python",
   "name": "python3"
  },
  "language_info": {
   "codemirror_mode": {
    "name": "ipython",
    "version": 2
   },
   "file_extension": ".py",
   "mimetype": "text/x-python",
   "name": "python",
   "nbconvert_exporter": "python",
   "pygments_lexer": "ipython2",
   "version": "2.7.6"
  }
 },
 "nbformat": 4,
 "nbformat_minor": 0
}