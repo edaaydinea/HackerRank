{
 "cells": [
  {
   "cell_type": "markdown",
   "metadata": {
    "collapsed": true,
    "pycharm": {
     "name": "#%% md\n"
    }
   },
   "source": [
    "# Day 7: Arrays\n",
    "\n",
    "*Author: Eda AYDIN*\n",
    "\n",
    "## Objective\n",
    "Today, we will learn about the Array data structure. Check out the Tutorial tab for learning materials and an instructional video.\n",
    "\n",
    "## Task\n",
    "Given an array, $A$, of $N$ integers, print $A$'s elements in reverse order as a single line of space-separated numbers.\n",
    "\n",
    "## Example\n",
    "$A = [1,2,3,4]$\n",
    "Print ```4 3 2 1```. Each integer is separated by once space.\n",
    "\n",
    "## Sample Input\n",
    "```\n",
    "4\n",
    "1 4 3 2\n",
    "```\n",
    "##Sample Output\n",
    "```\n",
    "2 3 4 1\n",
    "```"
   ]
  },
  {
   "cell_type": "code",
   "execution_count": 22,
   "outputs": [
    {
     "name": "stdout",
     "output_type": "stream",
     "text": [
      "2 3 4 1\n"
     ]
    }
   ],
   "source": [
    "#!/bin/python3\n",
    "\n",
    "import math\n",
    "import os\n",
    "import random\n",
    "import re\n",
    "import sys\n",
    "\n",
    "def reverseList(array, start,end):\n",
    "    while start < end:\n",
    "        array[start],array[end] = array[end],array[start]\n",
    "        start +=1\n",
    "        end -= 1\n",
    "    return array\n",
    "\n",
    "if __name__ == '__main__':\n",
    "    n = int(input().strip())\n",
    "    arr = list(map(int, input().rstrip().split()))\n",
    "    start = 0\n",
    "    end = n - 1\n",
    "    print(''.join(str(reverseList(arr,start,end))[1:-1].split(\",\")))"
   ],
   "metadata": {
    "collapsed": false,
    "pycharm": {
     "name": "#%%\n"
    }
   }
  }
 ],
 "metadata": {
  "kernelspec": {
   "display_name": "Python 3",
   "language": "python",
   "name": "python3"
  },
  "language_info": {
   "codemirror_mode": {
    "name": "ipython",
    "version": 2
   },
   "file_extension": ".py",
   "mimetype": "text/x-python",
   "name": "python",
   "nbconvert_exporter": "python",
   "pygments_lexer": "ipython2",
   "version": "2.7.6"
  }
 },
 "nbformat": 4,
 "nbformat_minor": 0
}