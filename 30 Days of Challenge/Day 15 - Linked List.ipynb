{
 "cells": [
  {
   "cell_type": "markdown",
   "metadata": {
    "collapsed": true,
    "pycharm": {
     "name": "#%% md\n"
    }
   },
   "source": [
    "# Day 15: Linked List\n",
    "\n",
    "## Objective\n",
    "\n",
    "Today, we will work with a Linked List. Check out the Tutorial tab for learning materials and an instructional video.\n",
    "\n",
    "A node class is provided for you in the editor. A node object has an integer data field, $data$ , and a Node instance pointer , $next$, pointing to another node (i.e the next node in the list)\n",
    "\n",
    "A node insert function is also declared in your editor. It has two parameters: a pointer, $head$, pointing to the first node of a linked list, and an integer, $data$, that must be added to the end of the list as a new Node object.\n",
    "\n",
    "##Task\n",
    "Complete the insert function in your editor so that it creates a new Node (pass $data$ as the Node constructor argument) and inserts it at the tail of the linked list referenced by the $head$ parameter. Once the new node is added, return the reference to the $head$ node.\n",
    "\n",
    "**Note:** The $head$ argument is null for an empty list.\n",
    "\n",
    "##Input Format\n",
    "\n",
    "The first line contains T, the number of elements to insert.\n",
    "Each of the next $T$ lines contains an integer to insert at the end of the list.\n",
    "\n",
    "##Output Format\n",
    "\n",
    "Return a reference to the $head$ node of the linked list.\n",
    "\n",
    "## Sample Input\n",
    "\n",
    "```\n",
    "STDIN   Function\n",
    "-----   --------\n",
    "4       T = 4\n",
    "2       first data = 2\n",
    "3\n",
    "4\n",
    "1       fourth data = 1\n",
    "```\n",
    "\n",
    "## Sampple Output\n",
    "\n",
    "```\n",
    "2 3 4 1\n",
    "```\n"
   ]
  },
  {
   "cell_type": "code",
   "execution_count": 2,
   "outputs": [
    {
     "name": "stdout",
     "output_type": "stream",
     "text": [
      "2 3 4 1 "
     ]
    }
   ],
   "source": [
    "class Node:\n",
    "    def __init__(self,data):\n",
    "        self.data = data\n",
    "        self.next = None\n",
    "class Solution:\n",
    "    def display(self,head):\n",
    "        current = head\n",
    "        while current:\n",
    "            print(current.data,end=' ')\n",
    "            current = current.next\n",
    "\n",
    "    def insert(self,head,data):\n",
    "    #Complete this method\n",
    "        if head is None:\n",
    "            head = Node(data)\n",
    "        else:\n",
    "            current = head\n",
    "            while current.next:\n",
    "                current = current.next\n",
    "            current.next = Node(data)\n",
    "        return head\n",
    "\n",
    "mylist= Solution()\n",
    "T=int(input())\n",
    "head=None\n",
    "for i in range(T):\n",
    "    data=int(input())\n",
    "    head=mylist.insert(head,data)\n",
    "mylist.display(head);"
   ],
   "metadata": {
    "collapsed": false,
    "pycharm": {
     "name": "#%%\n"
    }
   }
  }
 ],
 "metadata": {
  "kernelspec": {
   "display_name": "Python 3",
   "language": "python",
   "name": "python3"
  },
  "language_info": {
   "codemirror_mode": {
    "name": "ipython",
    "version": 2
   },
   "file_extension": ".py",
   "mimetype": "text/x-python",
   "name": "python",
   "nbconvert_exporter": "python",
   "pygments_lexer": "ipython2",
   "version": "2.7.6"
  }
 },
 "nbformat": 4,
 "nbformat_minor": 0
}