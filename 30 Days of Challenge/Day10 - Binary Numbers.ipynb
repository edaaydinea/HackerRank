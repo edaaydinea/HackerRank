{
 "cells": [
  {
   "cell_type": "markdown",
   "metadata": {
    "collapsed": true,
    "pycharm": {
     "name": "#%% md\n"
    }
   },
   "source": [
    "# Day 10: Binary Numbers\n",
    "\n",
    "*Author: Eda AYDIN*\n",
    "\n",
    "## Objective\n",
    "Today, we're working with binary numbers. Check out the Tutorial tab for learning materials ans an instructional video!\n",
    "\n",
    "## Task\n",
    "Given a base-$10$ integer, $n$, convert it to binary (base - $2$). Then find and print the base-$10$ integer denoting the maximum number of consecutive $1$'s in $n$'s binary representation. When working with different bases, it is common to show the base as a subscript.\n",
    "\n",
    "## Example\n",
    "\n",
    "$n = 125$\n",
    "\n",
    "The binary representation of $125_{10}$ is $1111101_{2}$. In base $10$, there are $5$ and $1$ consecutive ones in two groups. Print the maximum $5$."
   ]
  },
  {
   "cell_type": "code",
   "execution_count": 1,
   "outputs": [
    {
     "name": "stdout",
     "output_type": "stream",
     "text": [
      "5\n"
     ]
    }
   ],
   "source": [
    "#!/bin/python3\n",
    "\n",
    "import math\n",
    "import os\n",
    "import random\n",
    "import re\n",
    "import sys\n",
    "\n",
    "\n",
    "\n",
    "if __name__ == '__main__':\n",
    "    n = int(input().strip())\n",
    "\n",
    "    count = 0\n",
    "\n",
    "    while (n!=0):\n",
    "        n = n & (n << 1)\n",
    "        count += 1\n",
    "    print(count)"
   ],
   "metadata": {
    "collapsed": false,
    "pycharm": {
     "name": "#%%\n"
    }
   }
  }
 ],
 "metadata": {
  "kernelspec": {
   "display_name": "Python 3",
   "language": "python",
   "name": "python3"
  },
  "language_info": {
   "codemirror_mode": {
    "name": "ipython",
    "version": 2
   },
   "file_extension": ".py",
   "mimetype": "text/x-python",
   "name": "python",
   "nbconvert_exporter": "python",
   "pygments_lexer": "ipython2",
   "version": "2.7.6"
  }
 },
 "nbformat": 4,
 "nbformat_minor": 0
}