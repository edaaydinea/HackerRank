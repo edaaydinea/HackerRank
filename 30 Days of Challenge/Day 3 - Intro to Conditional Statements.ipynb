{
 "cells": [
  {
   "cell_type": "markdown",
   "source": [
    "# Day 3 : Intro to Conditional Statements\n",
    "\n",
    "*Author: Eda AYDIN*\n",
    "\n",
    "## Objective\n",
    "\n",
    "In this challenge, we learn about conditional statements. Check out the Tutorial tab for learning materials and an instructional video.\n",
    "\n",
    "## Task\n",
    "\n",
    "Given an integer $n$, perform the following conditional actions:\n",
    "- If $n$ is odd, print $Weird$\n",
    "- If $n$ is event and in the inclusive range of $2$ to $5$, print $Not\\, Weird$\n",
    "- If $n$ is event and in the inclusive range of $6$ to $10$, print $Weird$\n",
    "- If $n$ is event and greater than $20$, print $Not\\, Weird$\n",
    "\n",
    "Complete the stub code provided in your editor to print whether or not $n$ is weird.\n",
    "\n",
    "## Input Format\n",
    "\n",
    "A single line containing a positive integer, $n$.\n",
    "\n",
    "## Constraints\n",
    "\n",
    "- $1\\, \\leq\\,n\\, \\leq\\, 100$\n",
    "\n",
    "## Output Format\n",
    "\n",
    "Print $Weird$ if the number is weird; otherwise print $Not\\, Weird$\n",
    "\n",
    "## Sample Input 0\n",
    "\n",
    "        3\n",
    "\n",
    "## Sample Output 0\n",
    "\n",
    "        Weird\n",
    "\n",
    "## Sample Input 1\n",
    "\n",
    "        24\n",
    "\n",
    "## Sample Output 1\n",
    "\n",
    "        Not Weird\n",
    "\n",
    "## Explanation\n",
    "\n",
    "Sample Case 0: $n=3$\n",
    "$n$ is odd and odd numbers are weird, so we print $Weird$.\n",
    "\n",
    "Sample Case 1: $n=24$\n",
    "$n>20$ and $n$ is even, so it is not weird. Thus, we print $Not\\, Weird$."
   ],
   "metadata": {
    "collapsed": false
   }
  },
  {
   "cell_type": "code",
   "execution_count": 5,
   "metadata": {
    "collapsed": true,
    "pycharm": {
     "name": "#%%\n"
    }
   },
   "outputs": [
    {
     "name": "stdout",
     "output_type": "stream",
     "text": [
      "Not Weird\n"
     ]
    }
   ],
   "source": [
    "#!/bin/python3\n",
    "\n",
    "import math\n",
    "import os\n",
    "import random\n",
    "import re\n",
    "import sys\n",
    "\n",
    "\n",
    "if __name__ == '__main__':\n",
    "    N = int(input().strip())\n",
    "\n",
    "    if 1 <= N <= 100:\n",
    "        if N%2 != 0:\n",
    "            print(\"Weird\")\n",
    "        else:\n",
    "            if 2 <= N <= 5:\n",
    "                print(\"Not Weird\")\n",
    "            elif 6 <= N <= 20:\n",
    "                print(\"Weird\")\n",
    "            elif N > 20:\n",
    "                print(\"Not Weird\")"
   ]
  },
  {
   "cell_type": "code",
   "execution_count": null,
   "outputs": [],
   "source": [],
   "metadata": {
    "collapsed": false,
    "pycharm": {
     "name": "#%%\n"
    }
   }
  }
 ],
 "metadata": {
  "kernelspec": {
   "display_name": "Python 3",
   "language": "python",
   "name": "python3"
  },
  "language_info": {
   "codemirror_mode": {
    "name": "ipython",
    "version": 2
   },
   "file_extension": ".py",
   "mimetype": "text/x-python",
   "name": "python",
   "nbconvert_exporter": "python",
   "pygments_lexer": "ipython2",
   "version": "2.7.6"
  }
 },
 "nbformat": 4,
 "nbformat_minor": 0
}