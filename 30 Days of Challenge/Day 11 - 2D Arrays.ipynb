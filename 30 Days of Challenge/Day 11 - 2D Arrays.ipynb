{
 "cells": [
  {
   "cell_type": "markdown",
   "source": [
    "# Day 11: 2D Arrays\n",
    "\n",
    "*Author: Eda AYDIN*\n",
    "\n",
    "## Objective\n",
    "Today, we are building on our knowledge of arrays by another dimension. Check out the Tutorial tab for learning materials and an instructional video.\n",
    "\n",
    "## Context\n",
    "\n",
    "Given a $6\\times6$ 2D array, $A$:\n",
    "```\n",
    "1 1 1 0 0 0\n",
    "0 1 0 0 0 0\n",
    "1 1 1 0 0 0\n",
    "0 0 0 0 0 0\n",
    "0 0 0 0 0 0\n",
    "0 0 0 0 0 0\n",
    "```\n",
    "\n",
    "We define an hourglass in $A$ to be a subset of values with indices falling in this pattern in $A$'s graphical representation:\n",
    "\n",
    "```\n",
    "a b c\n",
    "  d\n",
    "e f g\n",
    "```\n",
    "\n",
    "There are $16$ hourglasses in $A$, and an hourglass sum is the sum of an hourglass' values.\n",
    "\n",
    "## Task\n",
    "Calculate the hourglass sum for every hourglass in $A$, then print the maximum hourglass sum.\n",
    "\n",
    "## Example\n",
    "In the array shown above, the maximum hourglass sum is $7$ for the hourglass in the top left corner.\n",
    "\n",
    "## Input Format\n",
    "\n",
    "There are $6$ lines of input, where each line contains $6$ space-separated integers that describe the 2D Array $A$.\n",
    "\n",
    "## Constraints\n",
    "\n",
    "- $-9\\leq A[i][j] \\leq 9$\n",
    "- $0\\leq i,j \\leq 5$\n",
    "\n",
    "## Output Format\n",
    "\n",
    "Print the maximum hourglass sum in $A$.\n",
    "\n",
    "## Sample Input\n",
    "\n",
    "        1 1 1 0 0 0\n",
    "        0 1 0 0 0 0\n",
    "        1 1 1 0 0 0\n",
    "        0 0 2 4 4 0\n",
    "        0 0 0 2 0 0\n",
    "        0 0 1 2 4 0\n",
    "\n",
    "## Sample Output\n",
    "\n",
    "        19"
   ],
   "metadata": {
    "collapsed": false
   }
  },
  {
   "cell_type": "code",
   "execution_count": 4,
   "metadata": {
    "collapsed": true,
    "pycharm": {
     "name": "#%%\n"
    }
   },
   "outputs": [
    {
     "name": "stdout",
     "output_type": "stream",
     "text": [
      "19\n"
     ]
    }
   ],
   "source": [
    "#!/bin/python3\n",
    "\n",
    "import math\n",
    "import os\n",
    "import random\n",
    "import re\n",
    "import sys\n",
    "\n",
    "\n",
    "\"\"\"\n",
    "1 1 1 0 0 0\n",
    "0 1 0 0 0 0\n",
    "1 1 1 0 0 0\n",
    "0 0 2 4 4 0\n",
    "0 0 0 2 0 0\n",
    "0 0 1 2 4 0\n",
    "\"\"\"\n",
    "\n",
    "if __name__ == '__main__':\n",
    "\n",
    "    arr = []\n",
    "\n",
    "    for _ in range(6):\n",
    "        arr.append(list(map(int, input().rstrip().split())))\n",
    "\n",
    "    maximum = -9 * 7\n",
    "\n",
    "    for i in range(6):\n",
    "        for j in range(6):\n",
    "            if j + 2 < 6 and i + 2 < 6:\n",
    "                result = arr[i][j] + arr[i][j+1] + arr[i][j+2] + \\\n",
    "                    arr[i+1][j+1] + \\\n",
    "                    arr[i+2][j] + arr[i+2][j+1] + arr[i+2][j+2]\n",
    "                if result > maximum:\n",
    "                    maximum = result\n",
    "    print(maximum)"
   ]
  }
 ],
 "metadata": {
  "kernelspec": {
   "display_name": "Python 3",
   "language": "python",
   "name": "python3"
  },
  "language_info": {
   "codemirror_mode": {
    "name": "ipython",
    "version": 2
   },
   "file_extension": ".py",
   "mimetype": "text/x-python",
   "name": "python",
   "nbconvert_exporter": "python",
   "pygments_lexer": "ipython2",
   "version": "2.7.6"
  }
 },
 "nbformat": 4,
 "nbformat_minor": 0
}