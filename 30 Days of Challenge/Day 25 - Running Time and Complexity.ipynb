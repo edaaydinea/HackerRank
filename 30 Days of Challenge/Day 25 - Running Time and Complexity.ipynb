{
 "cells": [
  {
   "cell_type": "markdown",
   "metadata": {
    "collapsed": true,
    "pycharm": {
     "name": "#%% md\n"
    }
   },
   "source": [
    "# Day 25: Running Time and Complexity\n",
    "\n",
    "*Author: Eda AYDIN*\n",
    "\n",
    "## Objective\n",
    "Today we will learn about running time, also known as time complexity. Check out the Tutorial tab for learning materials and an instructional video.\n",
    "\n",
    "## Task\n",
    "A prime is a natural number greater than $1$ that has no positive  divisors other than 1 and itself. Given a number $n$, determine and print whether it is $Prime$ or $Not\\, Prime$\n",
    "\n",
    "**Note:** If possible, try to come up with  $O(\\sqrt{n})$ primality algorithm, or see what sort of optimizations you come up with for an $O(n)$ algorithm. Be sure to check out the Ediotrial after submitting your code.\n",
    "\n",
    "## Sample Input\n",
    "```\n",
    "3\n",
    "12\n",
    "5\n",
    "7\n",
    "```\n",
    "## Sample Output\n",
    "```\n",
    "Not prime\n",
    "Prime\n",
    "Prime\n",
    "```"
   ]
  },
  {
   "cell_type": "code",
   "execution_count": 17,
   "outputs": [
    {
     "name": "stdout",
     "output_type": "stream",
     "text": [
      "Prime\n",
      "Not prime\n"
     ]
    }
   ],
   "source": [
    "# Enter your code here. Read input from STDIN. Print output to STDOUT\n",
    "from math import sqrt\n",
    "\n",
    "n = int(input())\n",
    "\n",
    "def checkPrime(number):\n",
    "    for i in range(2, int(sqrt(number))+1):\n",
    "        if number % i == 0:\n",
    "            return False\n",
    "    return True\n",
    "\n",
    "\n",
    "for _ in range(n):\n",
    "    val = int(input())\n",
    "    if val >= 2 and checkPrime(val):\n",
    "        print(\"Prime\")\n",
    "    else:\n",
    "        print(\"Not prime\")"
   ],
   "metadata": {
    "collapsed": false,
    "pycharm": {
     "name": "#%%\n"
    }
   }
  }
 ],
 "metadata": {
  "kernelspec": {
   "display_name": "Python 3",
   "language": "python",
   "name": "python3"
  },
  "language_info": {
   "codemirror_mode": {
    "name": "ipython",
    "version": 2
   },
   "file_extension": ".py",
   "mimetype": "text/x-python",
   "name": "python",
   "nbconvert_exporter": "python",
   "pygments_lexer": "ipython2",
   "version": "2.7.6"
  }
 },
 "nbformat": 4,
 "nbformat_minor": 0
}