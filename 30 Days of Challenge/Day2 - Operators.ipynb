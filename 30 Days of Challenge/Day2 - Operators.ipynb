{
 "cells": [
  {
   "cell_type": "markdown",
   "source": [
    "# Day 2: Operators\n",
    "\n",
    "*Author: Eda AYDIN*\n",
    "\n",
    "## Objective\n",
    "\n",
    "In this challenge, you will work with arithmetic operators. Check out the Tutorial tab for learning materials and an instructional video.\n",
    "\n",
    "## Task\n",
    "\n",
    "Given the meal price (base cost of a meal), tip percent (the percentage of the meal price being added as tip), and tax percent (the percentage of the meal price being added as tax) for a meal, find and print the meal's total cost. Round the result to the nearest integer.\n",
    "\n",
    "## Example\n",
    "\n",
    "        $ meal_{cost}= 100 \\\\\n",
    "           tip_{percent} = 15 \\\\\n",
    "           tax_{percent} = 8 $\n",
    "\n",
    "A tip pf 15% * 100 = 15, and the taxes are 8% * 100 = 6. Print $123$ and return from the function.\n",
    "\n",
    "## Function Description\n",
    "\n",
    "Complete the solve function in the editor below.\n",
    "\n",
    "Solve has the following parameters:\n",
    "- int meal_cost = the cost of food before tip and tax\n",
    "- int tip_percent: the tip percentage\n",
    "- int tax_percent: the tax percentage\n",
    "\n",
    "Returns The function returns nothing. Print the calculated value, rounded to the nearest integer.\n",
    "\n",
    "**Note:** Be sure to use precise values for your calculations, or you may end up with an incorrectly rounded result.\n",
    "\n",
    "## Input Format\n",
    "\n",
    "There are 3 lines of numeric input.\n",
    "The first line has a double, $meal_{cost}$ (the cost of the meal before tax and tip).\n",
    "The second line has an integer, $tip_{percent}$ (the percentage of $mealCost$ being added as tip).\n",
    "The third line has an integer, $tax_{percent}$ (the percentage of $mealCost$ being added as tax).\n",
    "\n",
    "##Sample Input\n",
    "\n",
    "        12.00\n",
    "        20\n",
    "        8\n",
    "\n",
    "## Sample Output\n",
    "\n",
    "        15\n",
    "\n",
    "## Explanation\n",
    "\n",
    "Given:\n",
    "$$ meal_{cost} = 12\\,, tip_{percent} = 20\\,, tax_{percent} = 8 $$\n",
    "\n",
    "Calculations:\n",
    "$$ tip = 12\\,\\,and\\,\\frac{12}{100} \\times 20 = 2.4 \\\\\n",
    "   tax = 8\\,\\,and\\,\\frac{8}{100} \\times 20 = 0.96 \\\\\n",
    "   total_{cost} = meal_{cost}\\, +\\, tip\\, +\\, tax\\, = 12 + 2.4 + 0.96 = 15.36 \\\\\n",
    "   round(total_{cost}) = 15 $$\n",
    "\n",
    "We round $total_{cost}$ to the nearest integer and print the result $15$."
   ],
   "metadata": {
    "collapsed": false
   }
  },
  {
   "cell_type": "code",
   "execution_count": 1,
   "metadata": {
    "collapsed": true,
    "pycharm": {
     "name": "#%%\n"
    }
   },
   "outputs": [
    {
     "name": "stdout",
     "output_type": "stream",
     "text": [
      "15\n"
     ]
    }
   ],
   "source": [
    "#!/bin/python3\n",
    "\n",
    "import math\n",
    "import os\n",
    "import random\n",
    "import re\n",
    "import sys\n",
    "\n",
    "#\n",
    "# Complete the 'solve' function below.\n",
    "#\n",
    "# The function accepts following parameters:\n",
    "#  1. DOUBLE meal_cost\n",
    "#  2. INTEGER tip_percent\n",
    "#  3. INTEGER tax_percent\n",
    "\n",
    "\n",
    "def solve(meal_cost, tip_percent, tax_percent):\n",
    "    tip = meal_cost * tip_percent/100\n",
    "    tax = meal_cost * tax_percent / 100\n",
    "    total_cost = meal_cost + tip + tax\n",
    "    print(round(total_cost))\n",
    "\n",
    "\n",
    "if __name__ == '__main__':\n",
    "    meal_cost = float(input().strip())\n",
    "\n",
    "    tip_percent = int(input().strip())\n",
    "\n",
    "    tax_percent = int(input().strip())\n",
    "\n",
    "    solve(meal_cost, tip_percent, tax_percent)"
   ]
  }
 ],
 "metadata": {
  "kernelspec": {
   "display_name": "Python 3",
   "language": "python",
   "name": "python3"
  },
  "language_info": {
   "codemirror_mode": {
    "name": "ipython",
    "version": 2
   },
   "file_extension": ".py",
   "mimetype": "text/x-python",
   "name": "python",
   "nbconvert_exporter": "python",
   "pygments_lexer": "ipython2",
   "version": "2.7.6"
  }
 },
 "nbformat": 4,
 "nbformat_minor": 0
}
