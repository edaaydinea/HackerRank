{
 "cells": [
  {
   "cell_type": "markdown",
   "source": [
    "# Day 19: Interfaces\n",
    "\n",
    "*Author: Eda AYDIN*\n",
    "\n",
    "## Objective\n",
    "Today, we're learning about Interfaces. Check out the Tutorial tab for learning materials and an instructional video!\n",
    "\n",
    "## Task\n",
    "The AdvancedArithmetic interface and the method declaration for the abstract divisorSum(n) method are provided for you in the editor below.\n",
    "\n",
    "Complete the implementation of Calculator class, which implements the AdvancedArithmetic interface. The implementation for the divisorSum(n) method must return the sum of all divisors of $n$.\n",
    "\n",
    "## Example\n",
    "\n",
    "$n=25$\n",
    "\n",
    "The divisors of $25$ are $1,5,25$. Their sum is $31$.\n",
    "\n",
    "\n",
    "$n=20$\n",
    "\n",
    "The divisors of $20$ are $1,2,4,5,10,20$ and their sum is $42$.\n",
    "\n",
    "## Sample Input\n",
    "```\n",
    "6\n",
    "```\n",
    "\n",
    "## Sample Output\n",
    "```\n",
    "I implemented: AdvancedArithmetic\n",
    "12\n",
    "```\n"
   ],
   "metadata": {
    "collapsed": false
   }
  },
  {
   "cell_type": "code",
   "execution_count": 1,
   "metadata": {
    "collapsed": true,
    "pycharm": {
     "name": "#%%\n"
    }
   },
   "outputs": [
    {
     "name": "stdout",
     "output_type": "stream",
     "text": [
      "I implemented: AdvancedArithmetic\n",
      "12\n"
     ]
    }
   ],
   "source": [
    "class AdvancedArithmetic(object):\n",
    "    def divisorSum(n):\n",
    "        raise NotImplementedError\n",
    "\n",
    "class Calculator(AdvancedArithmetic):\n",
    "    def divisorSum(self, n):\n",
    "        val = 0\n",
    "        for i in range(1, n+1):\n",
    "            if n % i == 0:\n",
    "                val +=i\n",
    "        return val\n",
    "\n",
    "\n",
    "\n",
    "n = int(input())\n",
    "my_calculator = Calculator()\n",
    "s = my_calculator.divisorSum(n)\n",
    "print(\"I implemented: \" + type(my_calculator).__bases__[0].__name__)\n",
    "print(s)"
   ]
  }
 ],
 "metadata": {
  "kernelspec": {
   "display_name": "Python 3",
   "language": "python",
   "name": "python3"
  },
  "language_info": {
   "codemirror_mode": {
    "name": "ipython",
    "version": 2
   },
   "file_extension": ".py",
   "mimetype": "text/x-python",
   "name": "python",
   "nbconvert_exporter": "python",
   "pygments_lexer": "ipython2",
   "version": "2.7.6"
  }
 },
 "nbformat": 4,
 "nbformat_minor": 0
}