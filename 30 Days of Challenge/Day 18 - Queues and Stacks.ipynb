{
 "cells": [
  {
   "cell_type": "markdown",
   "metadata": {
    "collapsed": true,
    "pycharm": {
     "name": "#%% md\n"
    }
   },
   "source": [
    "# Day 18: Queues and Stacks\n",
    "\n",
    "*Author: Eda AYDIN*\n",
    "\n",
    "Welcome to Day 18! Today we're learning about Stacks and Queues. Check out the Tutorial tab for learning materials and an instructional video!\n",
    "\n",
    "A palindrome is a word, phrase, number, or other sequence of characters which reads the same backwards and forwards. Can you determine if a given string, $s$ , is a palindrome?\n",
    "\n",
    "To solve this challenge, we must first take each character in $s$, enqueue it in a queue, and also push that same character onto a stack. Once that's done, we must dequeue the first character from the queue and pop the top character off the stack, then compare the two characters to see if they are the same; as long as the characters match, we continue dequeueing, popping, and comparing each character until our containers are empty (a non-match means  isn't a palindrome).\n",
    "\n",
    "Write the following declarations and implementations:\n",
    "\n",
    "Two instance variables: one for your $stack$ , and one for your $queue$.\n",
    "A void pushCharacter(char ch) method that pushes a character onto a stack.\n",
    "A void enqueueCharacter(char ch) method that enqueues a character in the $queue$ instance variable.\n",
    "A char popCharacter() method that pops and returns the character at the top of the $stack$ instance variable.\n",
    "A char dequeueCharacter() method that dequeues and returns the first character in the $queue$ instance variable.\n",
    "\n",
    "## Input Format\n",
    "\n",
    "You do not need to read anything from stdin. The locked stub code in your editor reads a single line containing string $s$ . It then calls the methods specified above to pass each character to your instance variables.\n",
    "\n",
    "## Constraints\n",
    "\n",
    "$s$ is composed of lowercase English letters.\n",
    "Output Format\n",
    "\n",
    "You are not responsible for printing any output to stdout.\n",
    "If your code is correctly written and  is a palindrome, the locked stub code will print ; otherwise, it will print\n",
    "\n",
    "## Sample Input\n",
    "\n",
    "```\n",
    "racecar\n",
    "```\n",
    "\n",
    "## Sample Output\n",
    "\n",
    "```\n",
    "The word, racecar, is a palindrome.\n",
    "```"
   ]
  },
  {
   "cell_type": "code",
   "execution_count": 2,
   "outputs": [
    {
     "name": "stdout",
     "output_type": "stream",
     "text": [
      "The word, racecar, is a palindrome.\n"
     ]
    }
   ],
   "source": [
    "import sys\n",
    "\n",
    "class Solution:\n",
    "# Write your code here\n",
    "    def __init__(self):\n",
    "        self.stack = []\n",
    "        self.queue = []\n",
    "\n",
    "    def pushCharacter(self,char):\n",
    "        self.stack.append(char)\n",
    "\n",
    "    def enqueueCharacter(self,char):\n",
    "        self.queue.append(char)\n",
    "\n",
    "    def popCharacter(self):\n",
    "        return self.stack.pop()\n",
    "\n",
    "    def dequeueCharacter(self):\n",
    "        char = self.queue[0]\n",
    "        self.queue = self.queue[1:]\n",
    "        return char\n",
    "\n",
    "# read the string s\n",
    "s=input()\n",
    "#Create the Solution class object\n",
    "obj=Solution()\n",
    "\n",
    "l=len(s)\n",
    "# push/enqueue all the characters of string s to stack\n",
    "for i in range(l):\n",
    "    obj.pushCharacter(s[i])\n",
    "    obj.enqueueCharacter(s[i])\n",
    "\n",
    "isPalindrome=True\n",
    "'''\n",
    "pop the top character from stack\n",
    "dequeue the first character from queue\n",
    "compare both the characters\n",
    "'''\n",
    "for i in range(l // 2):\n",
    "    if obj.popCharacter()!=obj.dequeueCharacter():\n",
    "        isPalindrome=False\n",
    "        break\n",
    "#finally print whether string s is palindrome or not.\n",
    "if isPalindrome:\n",
    "    print(\"The word, \"+s+\", is a palindrome.\")\n",
    "else:\n",
    "    print(\"The word, \"+s+\", is not a palindrome.\")"
   ],
   "metadata": {
    "collapsed": false,
    "pycharm": {
     "name": "#%%\n"
    }
   }
  }
 ],
 "metadata": {
  "kernelspec": {
   "display_name": "Python 3",
   "language": "python",
   "name": "python3"
  },
  "language_info": {
   "codemirror_mode": {
    "name": "ipython",
    "version": 2
   },
   "file_extension": ".py",
   "mimetype": "text/x-python",
   "name": "python",
   "nbconvert_exporter": "python",
   "pygments_lexer": "ipython2",
   "version": "2.7.6"
  }
 },
 "nbformat": 4,
 "nbformat_minor": 0
}